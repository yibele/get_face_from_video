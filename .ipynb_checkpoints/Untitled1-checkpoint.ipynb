{
 "cells": [
  {
   "cell_type": "code",
   "execution_count": 124,
   "metadata": {},
   "outputs": [],
   "source": [
    "# 批处理人脸视频\n",
    "import cv2\n",
    "import os\n",
    "import numpy as np\n",
    "import time"
   ]
  },
  {
   "cell_type": "code",
   "execution_count": 139,
   "metadata": {},
   "outputs": [
    {
     "name": "stdout",
     "output_type": "stream",
     "text": [
      "*********共载入 490 对视频********\n"
     ]
    }
   ],
   "source": [
    "# 属性定义\n",
    "\n",
    "# 设置视频属性\n",
    "# mov , mp4 , m4v 按照自己截取录制的视频格式进行修改\n",
    "video_type = 'mov'\n",
    "# 需要获取的视频前多少帧数\n",
    "frame_count = 2000\n",
    "# 帧数之间的间隔\n",
    "frame_delay = 4\n",
    "# 定义视频所在文件夹\n",
    "video_dir = \"/Volumes/develop/python/metriclearning/dataset/videos\"\n",
    "# 定义保存视频帧的位置\n",
    "video_save_dir = './images'\n",
    "# 获取所有视频\n",
    "videos = os.listdir(video_dir)\n",
    "\n",
    "print( '*********共载入 %d 对视频********' %(len(videos)-1))\n",
    "#print(videos)\n",
    "\n",
    "videos = filter(lambda x:x.endswith(video_type),videos)\n"
   ]
  },
  {
   "cell_type": "code",
   "execution_count": 140,
   "metadata": {},
   "outputs": [
    {
     "name": "stdout",
     "output_type": "stream",
     "text": [
      " 正在处理视频 fd_024_d.mov , 第0个视频/421============>\n",
      "/Volumes/develop/python/metriclearning/dataset/videos/fd_024_d.mov\n",
      " 视频处理完成============> fd_024_d.mov\n",
      " ================花费 6 秒 ===============\n",
      "\n",
      "\n",
      "------------------------------------------\n",
      "\n",
      "\n",
      "******所有视频处理完成，共处理 1 个视频，总共花费 6 秒*******\n"
     ]
    }
   ],
   "source": [
    "# 对视频进行处理\n",
    "\n",
    "#花费总时间\n",
    "start_time_t = time.time()\n",
    "video_count = 0\n",
    "# 未能处理的视频\n",
    "error_video = list()\n",
    "for index,each_video in enumerate(videos) :\n",
    "    # 计算运算时间\n",
    "    start_time = time.time()\n",
    "    end_time = 0;\n",
    "    print(' 正在处理视频 %s ============>',each_video)\n",
    "    c = 1 \n",
    "    i = 1\n",
    "    rval = True\n",
    "    # 获取绝对地址\n",
    "    video_src = os.path.join(video_dir,each_video)\n",
    "    print( video_src)\n",
    "    # 获取文件名\n",
    "    each_video_name, _ = each_video.split('.')\n",
    "    # 创建文件名文件\n",
    "    os.mkdir(video_save_dir + '/' + each_video_name)\n",
    "    # 获取文件名文件绝对路径\n",
    "    each_video_save = os.path.join(video_save_dir, each_video_name) + '/'\n",
    "    \n",
    "    cap = cv2.VideoCapture(video_src)\n",
    "    if(cap.isOpened()):\n",
    "        while( rval ):\n",
    "            rval , frame = cap.read()\n",
    "            if(c <  frame_count ) :\n",
    "                # 先保存图片 \n",
    "                cv2.imwrite( each_video_save + str(i) + '.jpg' ,frame)\n",
    "                i +=1\n",
    "                c += 4\n",
    "            else :\n",
    "                end_time = time.time()\n",
    "                break\n",
    "    else : \n",
    "        print(\"\\033[0;30;47***********错误信息***********\\033[0m\")\n",
    "        print('**********未能打开 %s 视频'%each_video)\n",
    "        #error_video.append(each_video)\n",
    "    print( ' 视频处理完成============>',each_video)\n",
    "    print( ' ================花费 %d 秒 ===============' %(end_time - start_time))\n",
    "    print( '\\n')\n",
    "    print('------------------------------------------')\n",
    "    print( '\\n')\n",
    "\n",
    "    cap.release()\n",
    "    video_count +=1\n",
    "\n",
    "print('******所有视频处理完成，共处理 %d 个视频，总共花费 %d 秒*******' %(video_count,end_time - start_time_t))"
   ]
  },
  {
   "cell_type": "code",
   "execution_count": 42,
   "metadata": {},
   "outputs": [],
   "source": [
    "for ev in videos:\n",
    "    print(ev)"
   ]
  },
  {
   "cell_type": "code",
   "execution_count": null,
   "metadata": {},
   "outputs": [],
   "source": []
  }
 ],
 "metadata": {
  "kernelspec": {
   "display_name": "Python 3",
   "language": "python",
   "name": "python3"
  },
  "language_info": {
   "codemirror_mode": {
    "name": "ipython",
    "version": 3
   },
   "file_extension": ".py",
   "mimetype": "text/x-python",
   "name": "python",
   "nbconvert_exporter": "python",
   "pygments_lexer": "ipython3",
   "version": "3.5.4"
  }
 },
 "nbformat": 4,
 "nbformat_minor": 2
}
