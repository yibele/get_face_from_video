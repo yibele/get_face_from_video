{
 "cells": [
  {
   "cell_type": "code",
   "execution_count": 3,
   "metadata": {},
   "outputs": [],
   "source": [
    "import cv2\n",
    "import numpy as np\n",
    "import os\n",
    "import time\n",
    "import face_recognition"
   ]
  },
  {
   "cell_type": "code",
   "execution_count": 20,
   "metadata": {},
   "outputs": [
    {
     "name": "stdout",
     "output_type": "stream",
     "text": [
      "正在处理 /Volumes/develop/python/metriclearning/dataset/test/fd_024_d/1.jpg \n",
      "正在处理 /Volumes/develop/python/metriclearning/dataset/test/fd_024_d/10.jpg \n",
      "正在处理 /Volumes/develop/python/metriclearning/dataset/test/fd_024_d/100.jpg \n",
      "正在处理 /Volumes/develop/python/metriclearning/dataset/test/fd_024_d/101.jpg \n",
      "正在处理 /Volumes/develop/python/metriclearning/dataset/test/fd_024_d/102.jpg \n",
      "正在处理 /Volumes/develop/python/metriclearning/dataset/test/fd_024_d/103.jpg \n",
      "正在处理 /Volumes/develop/python/metriclearning/dataset/test/fd_024_d/104.jpg \n",
      "正在处理 /Volumes/develop/python/metriclearning/dataset/test/fd_024_d/105.jpg \n",
      "正在处理 /Volumes/develop/python/metriclearning/dataset/test/fd_024_d/106.jpg \n",
      "正在处理 /Volumes/develop/python/metriclearning/dataset/test/fd_024_d/107.jpg \n",
      "正在处理 /Volumes/develop/python/metriclearning/dataset/test/fd_024_d/108.jpg \n",
      "正在处理 /Volumes/develop/python/metriclearning/dataset/test/fd_024_d/109.jpg \n",
      "正在处理 /Volumes/develop/python/metriclearning/dataset/test/fd_024_d/11.jpg \n",
      "正在处理 /Volumes/develop/python/metriclearning/dataset/test/fd_024_d/110.jpg \n",
      "正在处理 /Volumes/develop/python/metriclearning/dataset/test/fd_024_d/111.jpg \n",
      "正在处理 /Volumes/develop/python/metriclearning/dataset/test/fd_024_d/112.jpg \n",
      "正在处理 /Volumes/develop/python/metriclearning/dataset/test/fd_024_d/113.jpg \n",
      "正在处理 /Volumes/develop/python/metriclearning/dataset/test/fd_024_d/114.jpg \n",
      "正在处理 /Volumes/develop/python/metriclearning/dataset/test/fd_024_d/115.jpg \n",
      "正在处理 /Volumes/develop/python/metriclearning/dataset/test/fd_024_d/116.jpg \n",
      "正在处理 /Volumes/develop/python/metriclearning/dataset/test/fd_024_d/117.jpg \n",
      "正在处理 /Volumes/develop/python/metriclearning/dataset/test/fd_024_d/118.jpg \n",
      "正在处理 /Volumes/develop/python/metriclearning/dataset/test/fd_024_d/119.jpg \n",
      "正在处理 /Volumes/develop/python/metriclearning/dataset/test/fd_024_d/12.jpg \n",
      "正在处理 /Volumes/develop/python/metriclearning/dataset/test/fd_024_d/120.jpg \n",
      "正在处理 /Volumes/develop/python/metriclearning/dataset/test/fd_024_d/121.jpg \n",
      "正在处理 /Volumes/develop/python/metriclearning/dataset/test/fd_024_d/122.jpg \n",
      "正在处理 /Volumes/develop/python/metriclearning/dataset/test/fd_024_d/123.jpg \n",
      "正在处理 /Volumes/develop/python/metriclearning/dataset/test/fd_024_d/124.jpg \n",
      "正在处理 /Volumes/develop/python/metriclearning/dataset/test/fd_024_d/125.jpg \n",
      "正在处理 /Volumes/develop/python/metriclearning/dataset/test/fd_024_d/126.jpg \n",
      "正在处理 /Volumes/develop/python/metriclearning/dataset/test/fd_024_d/127.jpg \n",
      "正在处理 /Volumes/develop/python/metriclearning/dataset/test/fd_024_d/128.jpg \n",
      "正在处理 /Volumes/develop/python/metriclearning/dataset/test/fd_024_d/129.jpg \n",
      "正在处理 /Volumes/develop/python/metriclearning/dataset/test/fd_024_d/13.jpg \n",
      "正在处理 /Volumes/develop/python/metriclearning/dataset/test/fd_024_d/130.jpg \n",
      "正在处理 /Volumes/develop/python/metriclearning/dataset/test/fd_024_d/131.jpg \n",
      "正在处理 /Volumes/develop/python/metriclearning/dataset/test/fd_024_d/132.jpg \n",
      "正在处理 /Volumes/develop/python/metriclearning/dataset/test/fd_024_d/133.jpg \n",
      "正在处理 /Volumes/develop/python/metriclearning/dataset/test/fd_024_d/134.jpg \n",
      "正在处理 /Volumes/develop/python/metriclearning/dataset/test/fd_024_d/135.jpg \n",
      "正在处理 /Volumes/develop/python/metriclearning/dataset/test/fd_024_d/136.jpg \n",
      "正在处理 /Volumes/develop/python/metriclearning/dataset/test/fd_024_d/137.jpg \n",
      "正在处理 /Volumes/develop/python/metriclearning/dataset/test/fd_024_d/138.jpg \n",
      "正在处理 /Volumes/develop/python/metriclearning/dataset/test/fd_024_d/139.jpg \n",
      "正在处理 /Volumes/develop/python/metriclearning/dataset/test/fd_024_d/14.jpg \n",
      "正在处理 /Volumes/develop/python/metriclearning/dataset/test/fd_024_d/140.jpg \n",
      "正在处理 /Volumes/develop/python/metriclearning/dataset/test/fd_024_d/141.jpg \n",
      "正在处理 /Volumes/develop/python/metriclearning/dataset/test/fd_024_d/142.jpg \n"
     ]
    },
    {
     "ename": "KeyboardInterrupt",
     "evalue": "",
     "output_type": "error",
     "traceback": [
      "\u001b[0;31m---------------------------------------------------------------------------\u001b[0m",
      "\u001b[0;31mKeyboardInterrupt\u001b[0m                         Traceback (most recent call last)",
      "\u001b[0;32m<ipython-input-20-ba510bb70b38>\u001b[0m in \u001b[0;36m<module>\u001b[0;34m()\u001b[0m\n\u001b[1;32m     14\u001b[0m             \u001b[0mimg_path\u001b[0m \u001b[0;34m=\u001b[0m \u001b[0mos\u001b[0m\u001b[0;34m.\u001b[0m\u001b[0mpath\u001b[0m\u001b[0;34m.\u001b[0m\u001b[0mjoin\u001b[0m\u001b[0;34m(\u001b[0m\u001b[0mdir_path\u001b[0m\u001b[0;34m,\u001b[0m\u001b[0mimg\u001b[0m\u001b[0;34m)\u001b[0m\u001b[0;34m\u001b[0m\u001b[0m\n\u001b[1;32m     15\u001b[0m             \u001b[0mimg\u001b[0m \u001b[0;34m=\u001b[0m \u001b[0mface_recognition\u001b[0m\u001b[0;34m.\u001b[0m\u001b[0mload_image_file\u001b[0m\u001b[0;34m(\u001b[0m\u001b[0mimg_path\u001b[0m\u001b[0;34m)\u001b[0m\u001b[0;34m\u001b[0m\u001b[0m\n\u001b[0;32m---> 16\u001b[0;31m             \u001b[0mlocations\u001b[0m \u001b[0;34m=\u001b[0m \u001b[0mface_recognition\u001b[0m\u001b[0;34m.\u001b[0m\u001b[0mface_locations\u001b[0m\u001b[0;34m(\u001b[0m\u001b[0mimg\u001b[0m\u001b[0;34m)\u001b[0m\u001b[0;34m\u001b[0m\u001b[0m\n\u001b[0m\u001b[1;32m     17\u001b[0m             \u001b[0mface\u001b[0m\u001b[0;34m.\u001b[0m\u001b[0mappend\u001b[0m\u001b[0;34m(\u001b[0m\u001b[0mlocations\u001b[0m\u001b[0;34m[\u001b[0m\u001b[0;36m0\u001b[0m\u001b[0;34m]\u001b[0m\u001b[0;34m)\u001b[0m\u001b[0;34m\u001b[0m\u001b[0m\n\u001b[1;32m     18\u001b[0m             \u001b[0mprint\u001b[0m\u001b[0;34m(\u001b[0m\u001b[0;34m'正在处理 %s '\u001b[0m \u001b[0;34m%\u001b[0m\u001b[0;34m(\u001b[0m\u001b[0mimg_path\u001b[0m\u001b[0;34m)\u001b[0m\u001b[0;34m)\u001b[0m\u001b[0;34m\u001b[0m\u001b[0m\n",
      "\u001b[0;32m/Volumes/Vip/anaconda3/envs/keras/lib/python3.5/site-packages/face_recognition/api.py\u001b[0m in \u001b[0;36mface_locations\u001b[0;34m(img, number_of_times_to_upsample, model)\u001b[0m\n\u001b[1;32m    111\u001b[0m         \u001b[0;32mreturn\u001b[0m \u001b[0;34m[\u001b[0m\u001b[0m_trim_css_to_bounds\u001b[0m\u001b[0;34m(\u001b[0m\u001b[0m_rect_to_css\u001b[0m\u001b[0;34m(\u001b[0m\u001b[0mface\u001b[0m\u001b[0;34m.\u001b[0m\u001b[0mrect\u001b[0m\u001b[0;34m)\u001b[0m\u001b[0;34m,\u001b[0m \u001b[0mimg\u001b[0m\u001b[0;34m.\u001b[0m\u001b[0mshape\u001b[0m\u001b[0;34m)\u001b[0m \u001b[0;32mfor\u001b[0m \u001b[0mface\u001b[0m \u001b[0;32min\u001b[0m \u001b[0m_raw_face_locations\u001b[0m\u001b[0;34m(\u001b[0m\u001b[0mimg\u001b[0m\u001b[0;34m,\u001b[0m \u001b[0mnumber_of_times_to_upsample\u001b[0m\u001b[0;34m,\u001b[0m \u001b[0;34m\"cnn\"\u001b[0m\u001b[0;34m)\u001b[0m\u001b[0;34m]\u001b[0m\u001b[0;34m\u001b[0m\u001b[0m\n\u001b[1;32m    112\u001b[0m     \u001b[0;32melse\u001b[0m\u001b[0;34m:\u001b[0m\u001b[0;34m\u001b[0m\u001b[0m\n\u001b[0;32m--> 113\u001b[0;31m         \u001b[0;32mreturn\u001b[0m \u001b[0;34m[\u001b[0m\u001b[0m_trim_css_to_bounds\u001b[0m\u001b[0;34m(\u001b[0m\u001b[0m_rect_to_css\u001b[0m\u001b[0;34m(\u001b[0m\u001b[0mface\u001b[0m\u001b[0;34m)\u001b[0m\u001b[0;34m,\u001b[0m \u001b[0mimg\u001b[0m\u001b[0;34m.\u001b[0m\u001b[0mshape\u001b[0m\u001b[0;34m)\u001b[0m \u001b[0;32mfor\u001b[0m \u001b[0mface\u001b[0m \u001b[0;32min\u001b[0m \u001b[0m_raw_face_locations\u001b[0m\u001b[0;34m(\u001b[0m\u001b[0mimg\u001b[0m\u001b[0;34m,\u001b[0m \u001b[0mnumber_of_times_to_upsample\u001b[0m\u001b[0;34m,\u001b[0m \u001b[0mmodel\u001b[0m\u001b[0;34m)\u001b[0m\u001b[0;34m]\u001b[0m\u001b[0;34m\u001b[0m\u001b[0m\n\u001b[0m\u001b[1;32m    114\u001b[0m \u001b[0;34m\u001b[0m\u001b[0m\n\u001b[1;32m    115\u001b[0m \u001b[0;34m\u001b[0m\u001b[0m\n",
      "\u001b[0;32m/Volumes/Vip/anaconda3/envs/keras/lib/python3.5/site-packages/face_recognition/api.py\u001b[0m in \u001b[0;36m_raw_face_locations\u001b[0;34m(img, number_of_times_to_upsample, model)\u001b[0m\n\u001b[1;32m     95\u001b[0m         \u001b[0;32mreturn\u001b[0m \u001b[0mcnn_face_detector\u001b[0m\u001b[0;34m(\u001b[0m\u001b[0mimg\u001b[0m\u001b[0;34m,\u001b[0m \u001b[0mnumber_of_times_to_upsample\u001b[0m\u001b[0;34m)\u001b[0m\u001b[0;34m\u001b[0m\u001b[0m\n\u001b[1;32m     96\u001b[0m     \u001b[0;32melse\u001b[0m\u001b[0;34m:\u001b[0m\u001b[0;34m\u001b[0m\u001b[0m\n\u001b[0;32m---> 97\u001b[0;31m         \u001b[0;32mreturn\u001b[0m \u001b[0mface_detector\u001b[0m\u001b[0;34m(\u001b[0m\u001b[0mimg\u001b[0m\u001b[0;34m,\u001b[0m \u001b[0mnumber_of_times_to_upsample\u001b[0m\u001b[0;34m)\u001b[0m\u001b[0;34m\u001b[0m\u001b[0m\n\u001b[0m\u001b[1;32m     98\u001b[0m \u001b[0;34m\u001b[0m\u001b[0m\n\u001b[1;32m     99\u001b[0m \u001b[0;34m\u001b[0m\u001b[0m\n",
      "\u001b[0;31mKeyboardInterrupt\u001b[0m: "
     ]
    }
   ],
   "source": [
    "#文件夹目录\n",
    "img_dir = '/Volumes/develop/python/metriclearning/dataset/test'\n",
    "# 获取文件夹中的文件\n",
    "\n",
    "mat = {}\n",
    "dirs = os.listdir(img_dir)\n",
    "for dir in dirs :\n",
    "    face = []\n",
    "    dir_path = os.path.join(img_dir,dir)\n",
    "    if(os.path.isdir(dir_path)):\n",
    "        imgs = os.listdir(dir_path)\n",
    "        imgs = filter(lambda x:x.endswith('jpg'),imgs)\n",
    "        for index,img in enumerate(imgs):\n",
    "            img_path = os.path.join(dir_path,img)\n",
    "            img = face_recognition.load_image_file(img_path)\n",
    "            locations = face_recognition.face_locations(img)\n",
    "            face.append(locations[0])\n",
    "            print('正在处理 %s ' %(img_path))\n",
    "        mat[dir] = face\n",
    "        print('********处理文件 %s 完成'%dir)\n",
    "        \n"
   ]
  },
  {
   "cell_type": "code",
   "execution_count": null,
   "metadata": {},
   "outputs": [],
   "source": []
  }
 ],
 "metadata": {
  "kernelspec": {
   "display_name": "Python 3",
   "language": "python",
   "name": "python3"
  },
  "language_info": {
   "codemirror_mode": {
    "name": "ipython",
    "version": 3
   },
   "file_extension": ".py",
   "mimetype": "text/x-python",
   "name": "python",
   "nbconvert_exporter": "python",
   "pygments_lexer": "ipython3",
   "version": "3.5.4"
  }
 },
 "nbformat": 4,
 "nbformat_minor": 2
}
